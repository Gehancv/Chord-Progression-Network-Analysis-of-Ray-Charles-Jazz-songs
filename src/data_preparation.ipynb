{
 "cells": [
  {
   "cell_type": "code",
   "execution_count": 1,
   "metadata": {},
   "outputs": [
    {
     "name": "stdout",
     "output_type": "stream",
     "text": [
      "['keyboards_ray-charles_a-song-for-you.txt', 'keyboards_ray-charles_aint-misbehavin.txt', 'keyboards_ray-charles_aint-that-love.txt', 'keyboards_ray-charles_almost-like-being-in-love.txt', 'keyboards_ray-charles_alone-together.txt', 'keyboards_ray-charles_am-i-blue.txt', 'keyboards_ray-charles_america-the-beautiful.txt', 'keyboards_ray-charles_basin-street-blues.txt', 'keyboards_ray-charles_bewitched-bothered-and-bewildered.txt', 'keyboards_ray-charles_black-coffee.txt', 'keyboards_ray-charles_born-to-be-blue.txt', 'keyboards_ray-charles_born-to-lose.txt', 'keyboards_ray-charles_bulldog-bite-hunker-down-hairy-dawg.txt', 'keyboards_ray-charles_busted.txt', 'keyboards_ray-charles_california-here-i-come.txt', 'keyboards_ray-charles_candy.txt', 'keyboards_ray-charles_carry-me-back-to-old-virginny.txt', 'keyboards_ray-charles_come-rain-or-come-shine.txt', 'keyboards_ray-charles_cry-me-a-river.txt', 'keyboards_ray-charles_crying-time.txt', 'keyboards_ray-charles_dont-cry-for-me-argentina.txt', 'keyboards_ray-charles_dont-put-all-your-dreams-in-one-basket.txt', 'keyboards_ray-charles_drown-in-my-own-tears.txt', 'keyboards_ray-charles_eleanor-rigby.txt', 'keyboards_ray-charles_ellie-my-love.txt', 'keyboards_ray-charles_evry-time-we-say-goodbye.txt', 'keyboards_ray-charles_falling-in-love-with-love.txt', 'keyboards_ray-charles_georgia-on-my-mind.txt', 'keyboards_ray-charles_good-love-gone-bad.txt', 'keyboards_ray-charles_goodbye.txt', 'keyboards_ray-charles_hallelujah-i-love-her-so.txt', 'keyboards_ray-charles_here-we-go-again.txt', 'keyboards_ray-charles_hide-nor-hair.txt', 'keyboards_ray-charles_hit-the-road-jack.txt', 'keyboards_ray-charles_i-believe-to-my-soul.txt', 'keyboards_ray-charles_i-can-see-clearly-now.txt', 'keyboards_ray-charles_i-cant-stop-loving-you.txt', 'keyboards_ray-charles_i-dont-need-no-doctor.txt', 'keyboards_ray-charles_i-got-a-woman-part-1.txt', 'keyboards_ray-charles_if-i-could.txt', 'keyboards_ray-charles_if-i-were-you.txt', 'keyboards_ray-charles_im-going-down-to-the-river.txt', 'keyboards_ray-charles_imagine.txt', 'keyboards_ray-charles_it-had-to-be-you.txt', 'keyboards_ray-charles_it-was-a-very-good-year.txt', 'keyboards_ray-charles_just-because.txt', 'keyboards_ray-charles_just-for-a-thrill.txt', 'keyboards_ray-charles_leave-my-woman-alone.txt', 'keyboards_ray-charles_let-it-be.txt', 'keyboards_ray-charles_lets-go-get-stoned.txt', 'keyboards_ray-charles_love-me-with-all-of-your-heart.txt', 'keyboards_ray-charles_makin-whoopie.txt', 'keyboards_ray-charles_mess-around.txt', 'keyboards_ray-charles_moon-river.txt', 'keyboards_ray-charles_my-first-night-alone-without-you.txt', 'keyboards_ray-charles_my-funny-valentine.txt', 'keyboards_ray-charles_my-heart-cries-for-you.txt', 'keyboards_ray-charles_my-old-flame.txt', 'keyboards_ray-charles_my-romance.txt', 'keyboards_ray-charles_nancy-with-the-laughing-face.txt', 'keyboards_ray-charles_no-letter-today.txt', 'keyboards_ray-charles_ol-man-river.txt', 'keyboards_ray-charles_people.txt', 'keyboards_ray-charles_ray-charles.txt', 'keyboards_ray-charles_rays-blues.txt', 'keyboards_ray-charles_route-66.txt', 'keyboards_ray-charles_ruby.txt', 'keyboards_ray-charles_seven-spanish-angels.txt', 'keyboards_ray-charles_shes-funny-that-way.txt', 'keyboards_ray-charles_some-enchanted-evening.txt', 'keyboards_ray-charles_stella-by-starlight.txt', 'keyboards_ray-charles_sweet-georgia-brown.txt', 'keyboards_ray-charles_sweet-memories.txt', 'keyboards_ray-charles_take-these-chains-from-my-heart.txt', 'keyboards_ray-charles_that-lucky-old-sun.txt', 'keyboards_ray-charles_that-spirit-of-christmas.txt', 'keyboards_ray-charles_the-lady-is-a-tramp.txt', 'keyboards_ray-charles_the-man-i-love.txt', 'keyboards_ray-charles_three-quarter-time.txt', 'keyboards_ray-charles_unchain-my-heart.txt', 'keyboards_ray-charles_whatd-i-say.txt', 'keyboards_ray-charles_willow-weep-for-me.txt', 'keyboards_ray-charles_without-love-there-is-nothing.txt', 'keyboards_ray-charles_yesterday.txt', 'keyboards_ray-charles_you-are-so-beautiful.txt', 'keyboards_ray-charles_you-dont-know-me.txt', 'keyboards_ray-charles_your-cheatin-heart.txt', 'keyboards_ray-charles_‘deed-i-do.txt']\n"
     ]
    }
   ],
   "source": [
    "import os\n",
    "\n",
    "folder_name = \"\\\\songs\"\n",
    "files = os.listdir(os.getcwd() + folder_name)\n",
    "input_songs = [file for file in files if file.endswith('.txt')]\n",
    "print (input_songs) # Original songs"
   ]
  },
  {
   "cell_type": "markdown",
   "metadata": {},
   "source": [
    "## Create General network"
   ]
  },
  {
   "cell_type": "code",
   "execution_count": 2,
   "metadata": {},
   "outputs": [],
   "source": [
    "import re\n",
    "import  numpy as np\n",
    "\n",
    "def fetch_chords(line):\n",
    "    \"\"\"\n",
    "    Run regex expression to isolate chords in the txt file.\n",
    "    \"\"\"\n",
    "    notes = \"[CDEFGAB]\";\n",
    "    ignores = \"(?![A-Za-z\\'])\"\n",
    "    additonas_1 = \"(?:\\/[CDEFGAB])?\";\n",
    "    accidentals = \"(?:#|##|b|bb)?\";\n",
    "    chords = \"(?:maj|min|m|sus|aug|dim|add)?\";\n",
    "    additions_2 = \"(?:[0-9]+(?:\\/[0-9]+)?-?\\+?)?\"\n",
    "    additions_3 = \"(?:\\/[0-9]?-?[CDEFGAB]?)?\"\n",
    "    optional = \"(?:[0-9]+[CDEFGABM])?\"\n",
    "    return re.findall(r'\\b' + notes + accidentals + chords + additonas_1 + accidentals + additions_2 + additions_3 + optional + ignores + r'(?!\\w)', line)\n",
    "\n",
    "def flat_list(in_list):\n",
    "    \"\"\"\n",
    "    Convert the nested list into a single flat list\n",
    "    \"\"\"\n",
    "    return list(np.concatenate(in_list).flat)\n",
    "\n",
    "def write_output_file(songs_name, path, chords):\n",
    "    \"\"\"\n",
    "    Write the final output in to a .txt file\n",
    "    \"\"\"\n",
    "    directory = os.path.join(os.getcwd(), path)\n",
    "    if not os.path.exists(directory):\n",
    "            os.makedirs(directory)\n",
    "    try:\n",
    "        out_file_name = f\"{directory}\\\\{songs_name}.txt\"\n",
    "        with open(out_file_name, 'w') as file:\n",
    "            for chord in chords:\n",
    "                file.write(chord + '\\n')\n",
    "    except Exception as e:\n",
    "        print(f\"An error occurred: {str(e)}\")\n",
    "\n",
    "def write_to_csv(name, path, chords):\n",
    "    \"\"\"\n",
    "    Write the source and destination chords to csv file.\n",
    "    \"\"\"\n",
    "    try:\n",
    "        directory = os.path.join(os.getcwd(), path)\n",
    "        if not os.path.exists(directory):\n",
    "                os.makedirs(directory)\n",
    "        chords.to_csv(f'{directory}\\{name}.csv', index=False, sep=';')\n",
    "    except Exception as e:\n",
    "        print(f\"An error occurred: {str(e)}\")\n",
    "\n",
    "def generate_unique_chord_ids(unique_chords):\n",
    "     \"\"\"\n",
    "     Generate unique ID's for each chord.\n",
    "     \"\"\"\n",
    "     return dict(zip(unique_chords, range(1,len(unique_chords)+1)))"
   ]
  },
  {
   "cell_type": "code",
   "execution_count": 3,
   "metadata": {},
   "outputs": [],
   "source": [
    "def extract_song_details(path):\n",
    "    \"\"\"\n",
    "    Read the txt file and extract song name and chords\n",
    "    \"\"\"\n",
    "    try:\n",
    "        file = open(path, 'r') # open the file in read mode\n",
    "        lines = file.readlines() # read lines in text file to a nested list\n",
    "\n",
    "        song_name = lines.pop(0).replace('\\n', '') # get the song name\n",
    "\n",
    "        chords = list(map(fetch_chords, lines)) # fetch chords in each line\n",
    "        chords_ = [chord for chord in chords if chord] # remove empty lists NOTE: empty lists are formed for the lyrics lines\n",
    "        #f_chords.pop(len(f_chords)-1) # remove the unncessary E character fetched from the last line\n",
    "        flat_vec_chords = flat_list(chords_)\n",
    "        file.close() # close the file\n",
    "        return song_name, flat_vec_chords # return\n",
    "    except FileNotFoundError:\n",
    "        print(\"File not found\")\n",
    "    except Exception as e:\n",
    "        print(f\"An error occurred: {str(e)}\")"
   ]
  },
  {
   "cell_type": "code",
   "execution_count": 4,
   "metadata": {},
   "outputs": [],
   "source": [
    "import pandas as pd\n",
    "\n",
    "unique_chords = set()\n",
    "song_names = []\n",
    "\n",
    "for song in input_songs:\n",
    "    name, chords = extract_song_details(f\"songs\\{song}\")\n",
    "    unique_chords.update(chords)\n",
    "    write_output_file(name, \"songs\\\\final\", chords)\n",
    "    song_names.append(name)\n",
    "\n",
    "chord_ids = generate_unique_chord_ids(sorted(unique_chords)) # chord id dictionary\n",
    "nodes = pd.DataFrame(list(chord_ids.items()), columns=['Label', 'Id'])\n",
    "nodes = nodes[['Id', 'Label']]\n",
    "write_to_csv('node', \"songs\\\\final\\\\csv\\\\combined\", nodes)"
   ]
  },
  {
   "cell_type": "code",
   "execution_count": 5,
   "metadata": {},
   "outputs": [
    {
     "name": "stdout",
     "output_type": "stream",
     "text": [
      "['Ray Charles - A Song For You (Keyboard chords).txt', \"Ray Charles - Ain't Misbehavin' (Keyboard chords).txt\", 'Ray Charles - Aint That Love (Keyboard chords).txt', 'Ray Charles - Almost Like Being In Love (Keyboard chords).txt', 'Ray Charles - Alone Together (Keyboard chords).txt', 'Ray Charles - Am I Blue (Keyboard chords).txt', 'Ray Charles - America the beautiful (Keyboard chords).txt', 'Ray Charles - Basin Street Blues (Keyboard chords).txt', 'Ray Charles - Bewitched, Bothered And Bewildered (Keyboard chords).txt', 'Ray Charles - Black Coffee (Keyboard chords).txt', 'Ray Charles - Born To Be Blue (Keyboard chords).txt', 'Ray Charles - Born to lose (Keyboard chords).txt', 'Ray Charles - Bulldog Bite Hunker Down Hairy Dawg (Keyboard chords).txt', 'Ray Charles - Busted (Keyboard chords).txt', 'Ray Charles - California Here I Come (Keyboard chords).txt', 'Ray Charles - Candy (Keyboard chords).txt', 'Ray Charles - Carry Me Back To Old Virginny (Keyboard chords).txt', 'Ray Charles - Come Rain Or Come Shine (Keyboard chords).txt', 'Ray Charles - Cry Me A River (Keyboard chords).txt', 'Ray Charles - Crying Time (Keyboard chords).txt', \"Ray Charles - Don't Cry For Me Argentina (Keyboard chords).txt\", 'Ray Charles - Dont Put All Your Dreams In One Basket (Keyboard chords).txt', 'Ray Charles - Drown In My Own Tears (Keyboard chords).txt', 'Ray Charles - Eleanor Rigby (Keyboard chords).txt', 'Ray Charles - Ellie, My Love (Keyboard chords).txt', \"Ray Charles - Ev'ry Time We Say Goodbye (Keyboard chords).txt\", 'Ray Charles - Falling In Love With Love (Keyboard chords).txt', 'Ray Charles - Georgia On My Mind (Keyboard chords).txt', 'Ray Charles - Good Love Gone Bad (Keyboard chords).txt', 'Ray Charles - Goodbye (Keyboard chords).txt', 'Ray Charles - Hallelujah, I love her so (Keyboard chords).txt', 'Ray Charles - Here We Go Again (Keyboard chords).txt', 'Ray Charles - Hide Nor Hair (Keyboard chords).txt', 'Ray Charles - Hit The Road, Jack (Keyboard chords).txt', 'Ray Charles - I Believe To My Soul (Keyboard chords).txt', 'Ray Charles - I Can See Clearly Now (Keyboard chords).txt', \"Ray Charles - I Can't Stop Loving You (Keyboard chords).txt\", 'Ray Charles - I Dont Need No Doctor (Keyboard chords).txt', 'Ray Charles - I Got A Woman Part 1 (Keyboard chords).txt', \"Ray Charles - I'm Going Down To The River (Keyboard chords).txt\", 'Ray Charles - If I Could (Keyboard chords).txt', 'Ray Charles - If I Were You (Keyboard chords).txt', 'Ray Charles - Imagine (Keyboard chords).txt', 'Ray Charles - It Had To Be You (Keyboard chords).txt', 'Ray Charles - It Was A Very Good Year (Keyboard chords).txt', 'Ray Charles - Just Because (Keyboard chords).txt', 'Ray Charles - Just For A Thrill (Keyboard chords).txt', 'Ray Charles - Leave My Woman Alone (Keyboard chords).txt', 'Ray Charles - Let it be (Keyboard chords).txt', \"Ray Charles - Let's Go Get Stoned (Keyboard chords).txt\", 'Ray Charles - Love me with all of your heart (Keyboard chords).txt', \"Ray Charles - Makin' Whoopie (Keyboard chords).txt\", 'Ray Charles - Mess around (Keyboard chords).txt', 'Ray Charles - Moon River (Keyboard chords).txt', 'Ray Charles - My First Night Alone Without You (Keyboard chords).txt', 'Ray Charles - My Funny Valentine (Keyboard chords).txt', 'Ray Charles - My Heart Cries For You (Keyboard chords).txt', 'Ray Charles - My Old Flame (Keyboard chords).txt', 'Ray Charles - My Romance (Keyboard chords).txt', 'Ray Charles - Nancy (with The Laughing Face) (Keyboard chords).txt', 'Ray Charles - No Letter Today (Keyboard chords).txt', \"Ray Charles - Ol' Man River (Keyboard chords).txt\", 'Ray Charles - People (Keyboard chords).txt', 'Ray Charles - Ray Charles (Keyboard chords).txt', 'Ray Charles - Rays Blues (Keyboard chords).txt', 'Ray Charles - Route 66 (Keyboard chords).txt', 'Ray Charles - Ruby (Keyboard chords).txt', 'Ray Charles - Seven Spanish Angels (Keyboard chords).txt', \"Ray Charles - She's Funny That Way (Keyboard chords).txt\", 'Ray Charles - Some Enchanted Evening (Keyboard chords).txt', 'Ray Charles - Stella by starlight (Keyboard chords).txt', 'Ray Charles - Sweet Georgia Brown (Keyboard chords).txt', 'Ray Charles - Sweet Memories (Keyboard chords).txt', 'Ray Charles - Take These Chains From My Heart (Keyboard chords).txt', 'Ray Charles - That Lucky Old Sun (Keyboard chords).txt', 'Ray Charles - That Spirit Of Christmas (Keyboard chords).txt', 'Ray Charles - The Lady Is A Tramp (Keyboard chords).txt', 'Ray Charles - The Man I Love (Keyboard chords).txt', 'Ray Charles - Three Quarter Time (Keyboard chords).txt', 'Ray Charles - Unchain My Heart (Keyboard chords).txt', \"Ray Charles - What'd I Say (Keyboard chords).txt\", 'Ray Charles - Willow Weep For Me (Keyboard chords).txt', 'Ray Charles - Without Love There Is Nothing (Keyboard chords).txt', 'Ray Charles - Yesterday (Keyboard chords).txt', 'Ray Charles - You are so beautiful (Keyboard chords).txt', 'Ray Charles - You Don`t Know Me (Keyboard chords).txt', 'Ray Charles - Your Cheatin` Heart (Keyboard chords).txt', 'Ray Charles - Â€˜deed I Do (Keyboard chords).txt']\n"
     ]
    }
   ],
   "source": [
    "folder_name = \"\\\\songs\\\\final\"\n",
    "final_files = os.listdir(os.getcwd() + folder_name)\n",
    "final_songs = [file for file in final_files if file.endswith('.txt')]\n",
    "print(final_songs)"
   ]
  },
  {
   "cell_type": "code",
   "execution_count": 6,
   "metadata": {},
   "outputs": [],
   "source": [
    "import pandas as pd\n",
    "\n",
    "def replace_chords_with_ids(chords, chord_dic):\n",
    "    \"\"\"\n",
    "    Replace chord names with respective ID's from the dictionary\n",
    "    \"\"\"\n",
    "    final = [chord_dic[chord] for chord in chords]\n",
    "    return final\n",
    "\n",
    "def create_src_dst(chords):\n",
    "    \"\"\"\n",
    "    Create a dataframe consiting of source chord and target chord\n",
    "    \"\"\"\n",
    "    df = pd.DataFrame(chords, columns=['Target'])\n",
    "    df['Source'] = df['Target'].shift(periods=[1])\n",
    "    df = df.iloc[1:]\n",
    "    df['Source'] = df['Source'].astype(int)\n",
    "    df = df[['Source','Target']]\n",
    "    df['Type'] = 'Directed'\n",
    "    df = df.drop_duplicates()\n",
    "    return df\n",
    "\n",
    "def convert_to_gephi_format(path):\n",
    "    \"\"\"\n",
    "    Read the txt file and convert them into gephi csv format\n",
    "    \"\"\"\n",
    "    try:\n",
    "        file = open(path, 'r') # open the file in read mode\n",
    "        chords = file.readlines() # read lines in text file to a nested list\n",
    "        chords = list(map(lambda a: a.replace('\\n', ''), chords))\n",
    "        trans_chord = replace_chords_with_ids(chords, chord_ids)\n",
    "        df = create_src_dst(trans_chord)\n",
    "        name = os.path.basename(file.name)\n",
    "        write_to_csv(name.replace(\".txt\", \"\"), \"songs\\\\final\\\\csv\", df)\n",
    "        file.close()\n",
    "        return df\n",
    "    except FileNotFoundError:\n",
    "        print(\"File not found\")\n",
    "    except Exception as e:\n",
    "        print(f\"An error occurred: {str(e)}\")"
   ]
  },
  {
   "cell_type": "code",
   "execution_count": 7,
   "metadata": {},
   "outputs": [],
   "source": [
    "df_list = []\n",
    "for song in final_songs:\n",
    "    file = open(f\"songs\\\\final\\{song}\", 'r')\n",
    "    df = convert_to_gephi_format(f\"songs\\\\final\\{song}\")\n",
    "    df_list.append(df)\n",
    "    \n",
    "concat_df = pd.concat(df_list)\n",
    "write_to_csv('edge', \"songs\\\\final\\\\csv\\\\combined\", concat_df)"
   ]
  },
  {
   "cell_type": "markdown",
   "metadata": {},
   "source": [
    "## Create Jazz network and other genres network\n"
   ]
  },
  {
   "cell_type": "code",
   "execution_count": 8,
   "metadata": {},
   "outputs": [],
   "source": [
    "jazz_songs = [\"Ain't Misbehavin'\",\"Almost Like Being In Love\",\"Alone Together\",\"Basin Street Blues\",\"Bewitched, Bothered And Bewildered\",\"Black Coffee\",\"Bulldog Bite Hunker Down Hairy Dawg\",\"California Here I Come\",\"Ev'ry Time We Say Goodbye\",\"Falling In Love With Love\",\"It Had To Be You\",\"Moon River\",\"My Funny Valentine\",\"My Old Flame\",\"My Romance\",\"Nancy (with The Laughing Face)\",\"Rays Blues\",\"She's Funny That Way\",\"Some Enchanted Evening\",\"Stella by Starlight\",\"Sweet Georgia Brown\",\"The Lady Is A Tramp\",\"The Man I Love\",\"Three Quarter Time\",\"Willow Weep For Me\",\"Â€˜deed I Do\"]\n",
    "jazz_csv_list = []\n",
    "jazz_df_list = []\n",
    "for song in jazz_songs:\n",
    "    jazz_df = pd.read_csv(f\"songs\\\\final\\csv\\Ray Charles - {song} (Keyboard chords).csv\", delimiter=';')\n",
    "    jazz_csv_list.append(f\"Ray Charles - {song} (Keyboard chords).csv\")\n",
    "    jazz_df_list.append(jazz_df)\n",
    "    \n",
    "jazz_concat = pd.concat(jazz_df_list)\n",
    "jazz_chords = list(set(pd.concat([jazz_concat['Source'], jazz_concat['Target']]).tolist()))\n",
    "all_nodes = pd.read_csv(f\"songs\\\\final\\csv\\\\combined\\\\node.csv\", delimiter=';')\n",
    "jazz_nodes = all_nodes.loc[all_nodes['Id'].isin(jazz_chords)]\n",
    "\n",
    "write_to_csv('jazz_edge', \"songs\\\\final\\\\csv\\\\combined\", jazz_concat)\n",
    "write_to_csv('jazz_node', \"songs\\\\final\\\\csv\\\\combined\", jazz_nodes)\n"
   ]
  },
  {
   "cell_type": "code",
   "execution_count": 9,
   "metadata": {},
   "outputs": [],
   "source": [
    "folder_name = \"\\\\songs\\\\final\\\\csv\"\n",
    "files = os.listdir(os.getcwd() + folder_name)\n",
    "input_all_songs = [file for file in files if file.endswith('.csv')]\n",
    "input_other_songs = [file for file in input_all_songs if file not in jazz_csv_list]\n",
    "\n",
    "other_df_list = []\n",
    "for song in input_other_songs:\n",
    "    other_df = pd.read_csv(f\"songs\\\\final\\\\csv\\\\{song}\", delimiter=';')\n",
    "    other_df_list.append(other_df)\n",
    "    \n",
    "other_concat = pd.concat(other_df_list)\n",
    "other_chords = list(set(pd.concat([other_concat['Source'], other_concat['Target']]).tolist()))\n",
    "other_nodes = all_nodes.loc[all_nodes['Id'].isin(other_chords)]\n",
    "\n",
    "write_to_csv('other_edge', \"songs\\\\final\\\\csv\\\\combined\", other_concat)\n",
    "write_to_csv('other_node', \"songs\\\\final\\\\csv\\\\combined\", other_nodes)"
   ]
  },
  {
   "cell_type": "markdown",
   "metadata": {},
   "source": [
    "## Filtering out self loops and select the dominant weights"
   ]
  },
  {
   "cell_type": "code",
   "execution_count": 10,
   "metadata": {},
   "outputs": [],
   "source": [
    "all_songs_edges = pd.read_csv(\"songs\\\\final\\\\csv\\\\combined\\\\edge.csv\", delimiter=';')\n",
    "all_songs_edges = all_songs_edges[~(all_songs_edges['Source'] == all_songs_edges['Target'])] # Remove self loops\n",
    "all_songs_uniqe_edges = all_songs_edges.drop_duplicates(subset=['Source', 'Target'])\n",
    "# Select only dominant edges\n",
    "for index, row in all_songs_uniqe_edges.iterrows():\n",
    "    if any((all_songs_edges['Source'] == row['Target']) & (all_songs_edges['Target'] == row['Source'])):\n",
    "        direct_prog_cnt = ((all_songs_edges['Source'] == row['Source']) & (all_songs_edges['Target'] ==  row['Target'])).sum()\n",
    "        rev_prog_cnt = ((all_songs_edges['Source'] == row['Target']) & (all_songs_edges['Target'] ==  row['Source'])).sum()\n",
    "        if direct_prog_cnt > rev_prog_cnt:  \n",
    "            all_songs_edges = all_songs_edges[~((all_songs_edges['Source'] == row['Target']) & (all_songs_edges['Target'] ==  row['Source']))]\n",
    "        else:\n",
    "            all_songs_edges = all_songs_edges[~((all_songs_edges['Source'] == row['Source']) & (all_songs_edges['Target'] ==  row['Target']))]\n",
    "\n",
    "write_to_csv('dominant_edge', \"songs\\\\final\\\\csv\\\\combined\", all_songs_edges)    "
   ]
  },
  {
   "cell_type": "code",
   "execution_count": 11,
   "metadata": {},
   "outputs": [],
   "source": [
    "jazz_songs_edges = pd.read_csv(\"songs\\\\final\\\\csv\\\\combined\\\\jazz_edge.csv\", delimiter=';')\n",
    "jazz_songs_edges = jazz_songs_edges[~(jazz_songs_edges['Source'] == jazz_songs_edges['Target'])] # Remove self loops\n",
    "jazz_songs_uniqe_edges = jazz_songs_edges.drop_duplicates(subset=['Source', 'Target'])\n",
    "# Select only dominant edges\n",
    "for index, row in jazz_songs_uniqe_edges.iterrows():\n",
    "    if any((jazz_songs_edges['Source'] == row['Target']) & (jazz_songs_edges['Target'] == row['Source'])):\n",
    "        direct_prog_cnt = ((jazz_songs_edges['Source'] == row['Source']) & (jazz_songs_edges['Target'] ==  row['Target'])).sum()\n",
    "        rev_prog_cnt = ((jazz_songs_edges['Source'] == row['Target']) & (jazz_songs_edges['Target'] ==  row['Source'])).sum()\n",
    "        if direct_prog_cnt > rev_prog_cnt:  \n",
    "            jazz_songs_edges = jazz_songs_edges[~((jazz_songs_edges['Source'] == row['Target']) & (jazz_songs_edges['Target'] ==  row['Source']))]\n",
    "        else:\n",
    "            jazz_songs_edges = jazz_songs_edges[~((jazz_songs_edges['Source'] == row['Source']) & (jazz_songs_edges['Target'] ==  row['Target']))]\n",
    "\n",
    "write_to_csv('dominant_jazz_edge', \"songs\\\\final\\\\csv\\\\combined\", jazz_songs_edges)    "
   ]
  },
  {
   "cell_type": "code",
   "execution_count": 12,
   "metadata": {},
   "outputs": [],
   "source": [
    "other_songs_edges = pd.read_csv(\"songs\\\\final\\\\csv\\\\combined\\\\other_edge.csv\", delimiter=';')\n",
    "other_songs_edges = other_songs_edges[~(other_songs_edges['Source'] == other_songs_edges['Target'])] # Remove self loops\n",
    "other_songs_uniqe_edges = other_songs_edges.drop_duplicates(subset=['Source', 'Target'])\n",
    "# Select only dominant edges\n",
    "for index, row in other_songs_uniqe_edges.iterrows():\n",
    "    if any((other_songs_edges['Source'] == row['Target']) & (other_songs_edges['Target'] == row['Source'])):\n",
    "        direct_prog_cnt = ((other_songs_edges['Source'] == row['Source']) & (other_songs_edges['Target'] ==  row['Target'])).sum()\n",
    "        rev_prog_cnt = ((other_songs_edges['Source'] == row['Target']) & (other_songs_edges['Target'] ==  row['Source'])).sum()\n",
    "        if direct_prog_cnt > rev_prog_cnt:  \n",
    "            other_songs_edges = other_songs_edges[~((other_songs_edges['Source'] == row['Target']) & (other_songs_edges['Target'] ==  row['Source']))]\n",
    "        else:\n",
    "            other_songs_edges = other_songs_edges[~((other_songs_edges['Source'] == row['Source']) & (other_songs_edges['Target'] ==  row['Target']))]\n",
    "\n",
    "write_to_csv('dominant_other_edge', \"songs\\\\final\\\\csv\\\\combined\", other_songs_edges)    "
   ]
  },
  {
   "cell_type": "markdown",
   "metadata": {},
   "source": [
    "## Reconstructing the general jazz edges"
   ]
  },
  {
   "cell_type": "code",
   "execution_count": 13,
   "metadata": {},
   "outputs": [],
   "source": [
    "gen_folder_name = \"\\\\GENERAL JAZZ\\\\Songs graph\"\n",
    "gen_files = os.listdir(os.getcwd() + gen_folder_name)\n",
    "input_gen_songs = [file for file in gen_files if file.endswith('.txt')]\n",
    "#print(input_gen_songs) # Original general jazz songs\n",
    "\n",
    "final_gen_list = []\n",
    "for song in input_gen_songs:\n",
    "    file = open(f\"{os.getcwd() + gen_folder_name}\\\\{song}\", \"r\") # read each song one by one\n",
    "    lines = file.readlines()\n",
    "    file.close()\n",
    "    del lines[0:4] # ignore first 4 lines in txt file as that information is irrelavant\n",
    "    chord_tup = [tuple(map(int, elem.split('\\t'))) for elem in lines] # create chord pairs as tuples\n",
    "    chord_tup = list(set(chord_tup))\n",
    "    final_gen_list.extend(chord_tup)\n",
    "gen_df = pd.DataFrame(final_gen_list, columns=['Source', 'Target'])\n",
    "gen_df['Type'] = 'Directed'\n",
    "gen_df['Id'] = None\n",
    "gen_df['Label'] = None\n",
    "gen_df['Weight'] = None\n",
    "write_to_csv('corrected_edge', \"GENERAL JAZZ\", gen_df) # write the new corrected edges"
   ]
  },
  {
   "cell_type": "markdown",
   "metadata": {},
   "source": [
    "## Create new dictionary combining general jazz and ray charles"
   ]
  },
  {
   "cell_type": "code",
   "execution_count": 16,
   "metadata": {},
   "outputs": [],
   "source": [
    "rc_jazz_df = pd.read_csv(\"songs\\\\final\\\\csv\\\\combined\\\\node.csv\", delimiter = ';')\n",
    "general_jazz_df = pd.read_csv(\"GENERAL JAZZ\\\\node.csv\")\n",
    "merged_df = pd.concat([rc_jazz_df, general_jazz_df]).drop_duplicates().reset_index(drop=True)\n",
    "unique_chords = set(merged_df['Label'])\n",
    "new_chord_ids = generate_unique_chord_ids(sorted(list(unique_chords)))\n",
    "new_nodes = pd.DataFrame(list(new_chord_ids.items()), columns=['Label', 'Id'])\n",
    "new_nodes = new_nodes[['Id', 'Label']]\n",
    "\n",
    "new_nodes_rc = new_nodes[(new_nodes[\"Id\"].isin(rc_jazz_df['Id']))]\n",
    "write_to_csv('new_node', \"songs\\\\final\\\\csv\\\\combined\", new_nodes_rc)\n",
    "\n",
    "new_nodes_gen = new_nodes[(new_nodes['Id'].isin(general_jazz_df['Id']))]\n",
    "write_to_csv('new_node', \"GENERAL JAZZ\", new_nodes_gen)\n",
    "\n",
    "write_to_csv('common_node', \"GENERAL JAZZ\", new_nodes)\n",
    "\n",
    "# Translate RC jazz edge ID's to new format\n",
    "\n",
    "# Dictionary translator for RC music\n",
    "rc_dic_trans = pd.merge(rc_jazz_df, new_nodes_rc, on='Label', how='left')\n",
    "rc_dic_trans = rc_dic_trans.drop('Label', axis=1)\n",
    "\n",
    "rc_edges = pd.read_csv(\"songs\\\\final\\\\csv\\\\combined\\\\edge.csv\", delimiter=\";\")\n",
    "\n",
    "merged_rc_edges = pd.merge(rc_edges, rc_dic_trans, left_on='Source', right_on=\"Id_x\", how='left')\n",
    "rc_edges['Source'] = round(merged_rc_edges['Id_y'].combine_first(rc_edges['Source']))\n",
    "\n",
    "merged_rc_edges = pd.merge(rc_edges, rc_dic_trans, left_on='Target', right_on=\"Id_x\", how='left')\n",
    "rc_edges['Target'] = round(merged_rc_edges['Id_y'].combine_first(rc_edges['Target']))\n",
    "\n",
    "write_to_csv('new_edge', \"songs\\\\final\\\\csv\\\\combined\", rc_edges)\n",
    "\n",
    "# Translate general Jazz edge ID's to new format\n",
    "\n",
    "# Dictionary translator for general Jazz music\n",
    "gen_dic_trans = pd.merge(general_jazz_df, new_nodes_gen, on='Label', how='left')\n",
    "gen_dic_trans = gen_dic_trans.drop('Label', axis=1)\n",
    "\n",
    "general_edges = pd.read_csv(\"GENERAL JAZZ\\\\corrected_edge.csv\", delimiter=\";\")\n",
    "\n",
    "merged_gen_edges = pd.merge(general_edges, gen_dic_trans, left_on='Source', right_on=\"Id_x\", how='left')\n",
    "general_edges['Source'] = round(merged_gen_edges['Id_y'].combine_first(general_edges['Source']))\n",
    "\n",
    "merged_gen_edges = pd.merge(general_edges, gen_dic_trans, left_on='Target', right_on=\"Id_x\", how='left')\n",
    "general_edges['Target'] = round(merged_gen_edges['Id_y'].combine_first(general_edges['Target']))\n",
    "\n",
    "write_to_csv('new_edge', \"GENERAL JAZZ\", general_edges)"
   ]
  }
 ],
 "metadata": {
  "kernelspec": {
   "display_name": "Python 3",
   "language": "python",
   "name": "python3"
  },
  "language_info": {
   "codemirror_mode": {
    "name": "ipython",
    "version": 3
   },
   "file_extension": ".py",
   "mimetype": "text/x-python",
   "name": "python",
   "nbconvert_exporter": "python",
   "pygments_lexer": "ipython3",
   "version": "3.11.1"
  }
 },
 "nbformat": 4,
 "nbformat_minor": 2
}
