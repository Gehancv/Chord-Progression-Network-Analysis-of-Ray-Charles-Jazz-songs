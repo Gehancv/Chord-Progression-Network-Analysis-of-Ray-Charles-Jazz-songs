{
 "cells": [
  {
   "cell_type": "code",
   "execution_count": 4,
   "metadata": {},
   "outputs": [
    {
     "ename": "FileNotFoundError",
     "evalue": "[Errno 2] No such file or directory: 'c:\\\\Users\\\\dines\\\\OneDrive\\\\Documents\\\\Masters\\\\UCF\\\\Academics\\\\Fall 2023\\\\CNT5805  - Network Science\\\\Project\\\\Chord-Progression-Network-Analysis-of-Ray-Charles-Jazz-songs\\\\songs\\\\final\\\\csv\\\\all_songs.csv'",
     "output_type": "error",
     "traceback": [
      "\u001b[1;31m---------------------------------------------------------------------------\u001b[0m",
      "\u001b[1;31mFileNotFoundError\u001b[0m                         Traceback (most recent call last)",
      "\u001b[1;32mc:\\Users\\dines\\OneDrive\\Documents\\Masters\\UCF\\Academics\\Fall 2023\\CNT5805  - Network Science\\Project\\Chord-Progression-Network-Analysis-of-Ray-Charles-Jazz-songs\\analysis.ipynb Cell 1\u001b[0m line \u001b[0;36m8\n\u001b[0;32m      <a href='vscode-notebook-cell:/c%3A/Users/dines/OneDrive/Documents/Masters/UCF/Academics/Fall%202023/CNT5805%20%20-%20Network%20Science/Project/Chord-Progression-Network-Analysis-of-Ray-Charles-Jazz-songs/analysis.ipynb#W0sZmlsZQ%3D%3D?line=4'>5</a>\u001b[0m \u001b[39mimport\u001b[39;00m \u001b[39mos\u001b[39;00m\n\u001b[0;32m      <a href='vscode-notebook-cell:/c%3A/Users/dines/OneDrive/Documents/Masters/UCF/Academics/Fall%202023/CNT5805%20%20-%20Network%20Science/Project/Chord-Progression-Network-Analysis-of-Ray-Charles-Jazz-songs/analysis.ipynb#W0sZmlsZQ%3D%3D?line=6'>7</a>\u001b[0m path \u001b[39m=\u001b[39m os\u001b[39m.\u001b[39mgetcwd()\u001b[39m+\u001b[39m\u001b[39m'\u001b[39m\u001b[39m\\\\\u001b[39;00m\u001b[39msongs\u001b[39m\u001b[39m\\\\\u001b[39;00m\u001b[39mfinal\u001b[39m\u001b[39m\\\\\u001b[39;00m\u001b[39mcsv\u001b[39m\u001b[39m\\\\\u001b[39;00m\u001b[39mall_songs.csv\u001b[39m\u001b[39m'\u001b[39m\n\u001b[1;32m----> <a href='vscode-notebook-cell:/c%3A/Users/dines/OneDrive/Documents/Masters/UCF/Academics/Fall%202023/CNT5805%20%20-%20Network%20Science/Project/Chord-Progression-Network-Analysis-of-Ray-Charles-Jazz-songs/analysis.ipynb#W0sZmlsZQ%3D%3D?line=7'>8</a>\u001b[0m file \u001b[39m=\u001b[39m \u001b[39mopen\u001b[39;49m(path, \u001b[39m'\u001b[39;49m\u001b[39mr\u001b[39;49m\u001b[39m'\u001b[39;49m)\n\u001b[0;32m      <a href='vscode-notebook-cell:/c%3A/Users/dines/OneDrive/Documents/Masters/UCF/Academics/Fall%202023/CNT5805%20%20-%20Network%20Science/Project/Chord-Progression-Network-Analysis-of-Ray-Charles-Jazz-songs/analysis.ipynb#W0sZmlsZQ%3D%3D?line=8'>9</a>\u001b[0m lines \u001b[39m=\u001b[39m file\u001b[39m.\u001b[39mreadlines()\n\u001b[0;32m     <a href='vscode-notebook-cell:/c%3A/Users/dines/OneDrive/Documents/Masters/UCF/Academics/Fall%202023/CNT5805%20%20-%20Network%20Science/Project/Chord-Progression-Network-Analysis-of-Ray-Charles-Jazz-songs/analysis.ipynb#W0sZmlsZQ%3D%3D?line=10'>11</a>\u001b[0m lines \u001b[39m=\u001b[39m lines[\u001b[39m1\u001b[39m:]\n",
      "File \u001b[1;32m~\\AppData\\Roaming\\Python\\Python311\\site-packages\\IPython\\core\\interactiveshell.py:286\u001b[0m, in \u001b[0;36m_modified_open\u001b[1;34m(file, *args, **kwargs)\u001b[0m\n\u001b[0;32m    279\u001b[0m \u001b[39mif\u001b[39;00m file \u001b[39min\u001b[39;00m {\u001b[39m0\u001b[39m, \u001b[39m1\u001b[39m, \u001b[39m2\u001b[39m}:\n\u001b[0;32m    280\u001b[0m     \u001b[39mraise\u001b[39;00m \u001b[39mValueError\u001b[39;00m(\n\u001b[0;32m    281\u001b[0m         \u001b[39mf\u001b[39m\u001b[39m\"\u001b[39m\u001b[39mIPython won\u001b[39m\u001b[39m'\u001b[39m\u001b[39mt let you open fd=\u001b[39m\u001b[39m{\u001b[39;00mfile\u001b[39m}\u001b[39;00m\u001b[39m by default \u001b[39m\u001b[39m\"\u001b[39m\n\u001b[0;32m    282\u001b[0m         \u001b[39m\"\u001b[39m\u001b[39mas it is likely to crash IPython. If you know what you are doing, \u001b[39m\u001b[39m\"\u001b[39m\n\u001b[0;32m    283\u001b[0m         \u001b[39m\"\u001b[39m\u001b[39myou can use builtins\u001b[39m\u001b[39m'\u001b[39m\u001b[39m open.\u001b[39m\u001b[39m\"\u001b[39m\n\u001b[0;32m    284\u001b[0m     )\n\u001b[1;32m--> 286\u001b[0m \u001b[39mreturn\u001b[39;00m io_open(file, \u001b[39m*\u001b[39;49margs, \u001b[39m*\u001b[39;49m\u001b[39m*\u001b[39;49mkwargs)\n",
      "\u001b[1;31mFileNotFoundError\u001b[0m: [Errno 2] No such file or directory: 'c:\\\\Users\\\\dines\\\\OneDrive\\\\Documents\\\\Masters\\\\UCF\\\\Academics\\\\Fall 2023\\\\CNT5805  - Network Science\\\\Project\\\\Chord-Progression-Network-Analysis-of-Ray-Charles-Jazz-songs\\\\songs\\\\final\\\\csv\\\\all_songs.csv'"
     ]
    }
   ],
   "source": [
    "import networkx as nx\n",
    "import matplotlib.pyplot as plt\n",
    "from community import community_louvain\n",
    "import matplotlib.cm as cm\n",
    "import os\n",
    "\n",
    "path = os.getcwd()+'\\\\songs\\\\final\\\\csv\\\\all_songs.csv'\n",
    "file = open(path, 'r')\n",
    "lines = file.readlines()\n",
    "\n",
    "lines = lines[1:]\n",
    "edges = []\n",
    "\n",
    "for line in lines:\n",
    "    src, dst = map(int, line.split(';'))\n",
    "    edges.append((src,dst))\n",
    "edges\n",
    "\n",
    "G = nx.Graph()\n",
    "G.add_edges_from(edges)\n",
    "\n",
    "partition = community_louvain.best_partition(G)\n",
    "\n",
    "# visualization\n",
    "pos = nx.spring_layout(g)\n",
    "cmap = cm.get_cmap('viridis', max(partition.values()) + 1)\n",
    "nx.draw_networkx_nodes(G, pos, partition.keys(), node_size=100,cmap=cmap, node_color=list(partition.values()))\n",
    "nx.draw_networkx_edges(G, pos, alpha=0.5)\n",
    "plt.show()\n"
   ]
  },
  {
   "cell_type": "code",
   "execution_count": null,
   "metadata": {},
   "outputs": [],
   "source": [
    "# Python program to detect cycle\n",
    "# in a graph\n",
    "\n",
    "from collections import defaultdict\n",
    "import os\n",
    "\n",
    "class Graph():\n",
    "\tdef __init__(self, vertices):\n",
    "\t\tself.graph = defaultdict(list)\n",
    "\t\tself.V = vertices\n",
    "\n",
    "\tdef addEdge(self, u, v):\n",
    "\t\tself.graph[u].append(v)\n",
    "\n",
    "\tdef isCyclicUtil(self, v, visited, recStack):\n",
    "\n",
    "\t\t# Mark current node as visited and\n",
    "\t\t# adds to recursion stack\n",
    "\t\tvisited[v] = True\n",
    "\t\trecStack[v] = True\n",
    "\n",
    "\t\t# Recur for all neighbours\n",
    "\t\t# if any neighbour is visited and in\n",
    "\t\t# recStack then graph is cyclic\n",
    "\t\tfor neighbour in self.graph[v]:\n",
    "\t\t\tprint(f\"{neighbour} and {v}\")\n",
    "\t\t\tif visited[neighbour] == False:\n",
    "\t\t\t\tif self.isCyclicUtil(neighbour, visited, recStack) == True:\n",
    "\t\t\t\t\treturn True\n",
    "\t\t\telif recStack[neighbour] == True:\n",
    "\t\t\t\treturn True\n",
    "\n",
    "\t\t# The node needs to be popped from\n",
    "\t\t# recursion stack before function ends\n",
    "\t\trecStack[v] = False\n",
    "\t\treturn False\n",
    "\t\n",
    "\t# Returns true if graph is cyclic else false\n",
    "\tdef isCyclic(self):\n",
    "\t\tvisited = [False] * (self.V + 1)\n",
    "\t\trecStack = [False] * (self.V + 1)\n",
    "\t\tfor node in range(self.V):\n",
    "\t\t\tif visited[node] == False:\n",
    "\t\t\t\tif self.isCyclicUtil(node, visited, recStack) == True:\n",
    "\t\t\t\t\treturn True\n",
    "\t\treturn False\n",
    "\n",
    "\tdef FindCycles(self):\n",
    "\t\tvisited = [False] * (self.V + 1)\n",
    "\t\treckStack = [False] * (self.V + 1)\n",
    "\t\tcycles = []\n",
    "\t\tfor node in range(self.V):\n",
    "\t\t\tif visited[node] == False:\n",
    "\t\t\t\tif self.\n",
    "\n",
    "\n",
    "# Driver code\n",
    "if __name__ == '__main__':\n",
    "\tpath = os.getcwd()+'\\\\songs\\\\final\\\\csv\\\\combined\\\\all_songs.csv'\n",
    "\tfile = open(path, 'r')\n",
    "\tlines = file.readlines()\n",
    "\tlines = lines[1:]\n",
    "\tg = Graph(183)\n",
    "\tfor line in lines:\n",
    "\t\tsrc, dst = map(int, line.split(';'))\n",
    "\t\tg.addEdge(src, dst)\n",
    "\n",
    "\tif g.isCyclic() == 1:\n",
    "\t\tprint(\"Graph contains cycle\")\n",
    "\telse:\n",
    "\t\tprint(\"Graph doesn't contain cycle\")\n"
   ]
  },
  {
   "cell_type": "code",
   "execution_count": null,
   "metadata": {},
   "outputs": [],
   "source": [
    "import networkx as nx\n",
    "import matplotlib.pyplot as plt\n",
    "\n",
    "graph = nx.read_gexf('modularity_class.gexf')\n",
    "\n",
    "cycles = list(nx.simple_cycles(graph))\n",
    "\n",
    "print(\"Cycles: \", cycles)\n",
    "\n",
    "pos = nx.spring_layout(graph)\n",
    "nx.draw(graph, pos, with_labels=True)\n",
    "plt.show()"
   ]
  },
  {
   "cell_type": "markdown",
   "metadata": {},
   "source": [
    "## Network comparison"
   ]
  },
  {
   "cell_type": "code",
   "execution_count": 21,
   "metadata": {},
   "outputs": [
    {
     "name": "stdout",
     "output_type": "stream",
     "text": [
      "Propotion of common edge between general jazz and RC: 0.18270481144343304\n",
      "Propotion of common edge between general jazz and RC jazz: 0.11183355006501951\n"
     ]
    }
   ],
   "source": [
    "import os\n",
    "import pandas as pd\n",
    "\n",
    "general_edges = pd.read_csv('CLEAN CHORDS\\\\edges\\General.csv')\n",
    "general_edges_set = set([tuple(x) for x in general_edges.values])\n",
    "\n",
    "rc_edges = pd.read_csv('CLEAN CHORDS\\\\edges\\\\RC.csv')\n",
    "rc_edges_set = set([tuple([x[0],x[1]]) for x in rc_edges.values])\n",
    "\n",
    "rc_jazz_edges = pd.read_csv('CLEAN CHORDS\\\\edges\\\\RCJazz.csv')\n",
    "rc_jazz_edges_set = set([tuple([x[0],x[1]]) for x in rc_jazz_edges.values])\n",
    "\n",
    "rc_unique_edges = rc_edges_set - general_edges_set.intersection(rc_edges_set)\n",
    "rc_jazz_unique_edges = rc_jazz_edges_set - general_edges_set.intersection(rc_jazz_edges_set)\n",
    "\n",
    "rc = {'Source': [item[0] for item in rc_unique_edges],\n",
    "        'Target': [item[1] for item in rc_unique_edges],\n",
    "        'Type': ['Directed' for item in rc_unique_edges]\n",
    "        }\n",
    "\n",
    "rc_jazz = {'Source': [item[0] for item in rc_jazz_unique_edges],\n",
    "        'Target': [item[1] for item in rc_jazz_unique_edges],\n",
    "        'Type': ['Directed' for item in rc_jazz_unique_edges]\n",
    "        }\n",
    "\n",
    "rc_df = pd.DataFrame(rc)\n",
    "rc_df.to_csv('CLEAN CHORDS\\\\edges\\\\RCUnique.csv', index=False, sep=';')\n",
    "rc_jazz_df = pd.DataFrame(rc_jazz)\n",
    "rc_jazz_df.to_csv('CLEAN CHORDS\\\\edges\\\\RCUniqueJazz.csv', index=False, sep=';')\n",
    "\n",
    "# Calculate propotion of common edges between general jazz and RC\n",
    "rc_gen_intersection_prop = len(general_edges_set.intersection(rc_edges_set))/len(general_edges_set)\n",
    "print(f\"Propotion of common edge between general jazz and RC: {rc_gen_intersection_prop}\")\n",
    "\n",
    "# Calculate propotion of common edges between general jazz and RC jazz\n",
    "rc_jazz_gen_intersection_prop = len(general_edges_set.intersection(rc_jazz_edges_set))/len(general_edges_set)\n",
    "print(f\"Propotion of common edge between general jazz and RC jazz: {rc_jazz_gen_intersection_prop}\")"
   ]
  },
  {
   "cell_type": "code",
   "execution_count": 19,
   "metadata": {},
   "outputs": [
    {
     "data": {
      "text/plain": [
       "172"
      ]
     },
     "execution_count": 19,
     "metadata": {},
     "output_type": "execute_result"
    }
   ],
   "source": [
    "len(general_edges_set.intersection(rc_jazz_edges_set))"
   ]
  },
  {
   "cell_type": "markdown",
   "metadata": {},
   "source": [
    "## Jaccard similarity"
   ]
  },
  {
   "cell_type": "code",
   "execution_count": 6,
   "metadata": {},
   "outputs": [],
   "source": [
    "from statistics import mean\n",
    "\n",
    "def calc_jaccard_similarity(graph_1, graph_2, common_nodes):\n",
    "    # Calculate jaccard score\n",
    "    node_jaccard_score = {}\n",
    "\n",
    "    for node in common_nodes:\n",
    "        graph_1_neighbors = set(graph_1.neighbors(node))\n",
    "        graph_2_neighbors = set(graph_2.neighbors(node))\n",
    "        jaccard_score = float(len(graph_1_neighbors.intersection(graph_2_neighbors))/len(graph_1_neighbors.union(graph_2_neighbors)))\n",
    "        node_jaccard_score[node] = jaccard_score\n",
    "        \n",
    "    avg_jaccard_score = mean(node_jaccard_score.values())\n",
    "    return node_jaccard_score, avg_jaccard_score"
   ]
  },
  {
   "cell_type": "code",
   "execution_count": 20,
   "metadata": {},
   "outputs": [
    {
     "name": "stdout",
     "output_type": "stream",
     "text": [
      "Jaccard similarity score per node:{'A7': 0.2361111111111111, 'G7': 0.2231404958677686, 'Dm7': 0.2, 'Bdim': 0.14285714285714285, 'Cdim': 0.08695652173913043, 'A9': 0.09523809523809523, 'Bm': 0.09090909090909091, 'Bb': 0.0, 'B': 0.0, 'Gm': 0.20588235294117646, 'Emaj7': 0.0, 'Edim': 0.0, 'E': 0.16666666666666666, 'Adim': 0.14285714285714285, 'Cm6': 0.0, 'Ebm7': 0.09523809523809523, 'Am9': 0.06666666666666667, 'Bb7': 0.12121212121212122, 'Dm6': 0.2, 'Fmaj7': 0.24242424242424243, 'Dm': 0.20689655172413793, 'Em7': 0.21333333333333335, 'A': 0.15384615384615385, 'E7': 0.28169014084507044, 'D7': 0.2125, 'Bm7': 0.08, 'Am': 0.2727272727272727, 'G': 0.08620689655172414, 'Bb9': 0.12, 'C6': 0.16901408450704225, 'D9': 0.06818181818181818, 'Gmaj7': 0.125, 'Gm7': 0.17857142857142858, 'F6': 0.28125, 'Am7': 0.2413793103448276, 'Amaj7': 0.1111111111111111, 'F7': 0.20754716981132076, 'F': 0.25301204819277107, 'Cdim7': 0.0, 'C9': 0.08333333333333333, 'Ddim': 0.0625, 'Bdim7': 0.0, 'Cm7': 0.14814814814814814, 'D': 0.08571428571428572, 'B7': 0.16279069767441862, 'G9': 0.13157894736842105, 'Fm6': 0.2222222222222222, 'F9': 0.11904761904761904, 'Fm': 0.23529411764705882, 'Am5+': 0.4, 'C': 0.24806201550387597, 'Am6': 0.1388888888888889, 'Gdim': 0.06666666666666667, 'Cm': 0.11538461538461539, 'Cmaj7': 0.19753086419753085, 'Em6': 0.2222222222222222, 'Dmaj7': 0.0, 'C7': 0.26582278481012656, 'G6': 0.0, 'Em': 0.358974358974359, 'Fm7': 0.23404255319148937}\n",
      "Average Jaccard similarity score:0.1487975640405204\n",
      "Jaccard similarity score per node:{'A7': 0.23076923076923078, 'G7': 0.23076923076923078, 'Dm7': 0.16981132075471697, 'Cdim': 0.1111111111111111, 'Bm': 0.14285714285714285, 'Bb': 0.0, 'Gm': 0.16666666666666666, 'Emaj7': 0.0, 'Edim': 0.0, 'E': 0.09090909090909091, 'Adim': 0.14285714285714285, 'Cm6': 0.0, 'Dm6': 0.1, 'Fmaj7': 0.1864406779661017, 'Dm': 0.1956521739130435, 'Em7': 0.1, 'A': 0.25, 'D7': 0.2, 'E7': 0.3114754098360656, 'Bm7': 0.04, 'Am': 0.2535211267605634, 'G': 0.14705882352941177, 'Bb9': 0.09090909090909091, 'C6': 0.14754098360655737, 'D9': 0.07317073170731707, 'Gmaj7': 0.125, 'Gm7': 0.023809523809523808, 'F6': 0.28, 'Am7': 0.21621621621621623, 'Amaj7': 0.1111111111111111, 'F7': 0.19047619047619047, 'F': 0.30357142857142855, 'C9': 0.0625, 'Ddim': 0.09090909090909091, 'Cm7': 0.07692307692307693, 'D': 0.09523809523809523, 'B7': 0.075, 'Fm6': 0.17391304347826086, 'F9': 0.14705882352941177, 'Fm': 0.26666666666666666, 'C': 0.2403846153846154, 'Am6': 0.07142857142857142, 'Gdim': 0.1, 'Cm': 0.0, 'Cmaj7': 0.16216216216216217, 'G9': 0.08571428571428572, 'Dmaj7': 0.0, 'C7': 0.2, 'G6': 0.0, 'Em': 0.23333333333333334, 'Fm7': 0.19047619047619047}\n",
      "Average Jaccard similarity score:0.1353610270657003\n",
      "Propotion of common nodes between general jazz and RC:0.25523012552301255\n",
      "Propotion of common nodes between general jazz and RC jazz: 0.21338912133891214\n"
     ]
    }
   ],
   "source": [
    "import networkx as nx\n",
    "import pandas as pd\n",
    "\n",
    "# Create general graph\n",
    "gen_lines = pd.read_csv('CLEAN CHORDS\\\\edges\\General.csv')\n",
    "gen_edges = [tuple([x[0], x[1]]) for x in gen_lines.values]\n",
    "gen_graph = nx.Graph()\n",
    "gen_graph.add_edges_from(gen_edges)\n",
    "\n",
    "# Create RC graph\n",
    "rc_lines =  pd.read_csv('CLEAN CHORDS\\\\edges\\RC.csv')\n",
    "rc_edges = [tuple([x[0], x[1]]) for x in rc_lines.values]\n",
    "rc_graph = nx.Graph()\n",
    "rc_graph.add_edges_from(rc_edges)\n",
    "\n",
    "# Create RC Jazz graph\n",
    "\n",
    "rc_jazz_lines =  pd.read_csv('CLEAN CHORDS\\\\edges\\RCJazz.csv')\n",
    "rc_jazz_edges = [tuple([x[0], x[1]]) for x in rc_jazz_lines.values]\n",
    "rc_jazz_graph = nx.Graph()\n",
    "rc_jazz_graph.add_edges_from(rc_jazz_edges)\n",
    "\n",
    "# general graph nodes\n",
    "gen_nodes = [x[0] for x in gen_lines.values]\n",
    "gen_nodes.extend([x[1] for x in gen_lines.values])\n",
    "gen_nodes_set = set(gen_nodes)\n",
    "\n",
    "# rc graph nodes\n",
    "rc_nodes =  [x[0] for x in rc_lines.values]\n",
    "rc_nodes.extend([x[1] for x in rc_lines.values])\n",
    "rc_nodes_set = set(rc_nodes)\n",
    "\n",
    "# rc jazz nodes\n",
    "rc_jazz_nodes =  [x[0] for x in rc_jazz_lines.values]\n",
    "rc_jazz_nodes.extend([x[1] for x in rc_jazz_lines.values])\n",
    "rc_jazz_nodes_set = set(rc_jazz_nodes)\n",
    "\n",
    "# Intersection of nodes of general jazz and RC\n",
    "common_nodes_rc = gen_nodes_set.intersection(rc_nodes_set)\n",
    "# Intersection of nodes of general jazz and RC jazz\n",
    "common_nodes_rc_jazz =  gen_nodes_set.intersection(rc_jazz_nodes_set)\n",
    "\n",
    "# Calculate jaccard similarity between general jazz and RC \n",
    "node_rc_jaccard_score, avg_rc_jaccard_score = calc_jaccard_similarity(gen_graph, rc_graph, common_nodes_rc)\n",
    "print(f\"Jaccard similarity score per node:{node_rc_jaccard_score}\")\n",
    "print(f\"Average Jaccard similarity score:{avg_rc_jaccard_score}\")\n",
    "\n",
    "# Calculate jaccard similarity between general jazz and RC jazz\n",
    "node_rc_jazz_jaccard_score, avg_rc_jazz_jaccard_score = calc_jaccard_similarity(gen_graph, rc_jazz_graph, common_nodes_rc_jazz)\n",
    "print(f\"Jaccard similarity score per node:{node_rc_jazz_jaccard_score}\")\n",
    "print(f\"Average Jaccard similarity score:{avg_rc_jazz_jaccard_score}\")\n",
    "\n",
    "# Calculate general jazz and RC intersection propotion\n",
    "rc_intersection_prop = len(gen_nodes_set.intersection(rc_nodes_set))/len(gen_nodes_set)\n",
    "print(f\"Propotion of common nodes between general jazz and RC:{rc_intersection_prop}\")\n",
    "# Calculate general jazz and RC jazz intersection propotion\n",
    "rc_jazz_intersection_prop = len(gen_nodes_set.intersection(rc_jazz_nodes_set))/len(gen_nodes_set)\n",
    "print(f\"Propotion of common nodes between general jazz and RC jazz: {rc_jazz_intersection_prop}\")"
   ]
  },
  {
   "cell_type": "code",
   "execution_count": 15,
   "metadata": {},
   "outputs": [
    {
     "data": {
      "text/plain": [
       "51"
      ]
     },
     "execution_count": 15,
     "metadata": {},
     "output_type": "execute_result"
    }
   ],
   "source": [
    "len(gen_nodes_set.intersection(rc_jazz_nodes_set))"
   ]
  }
 ],
 "metadata": {
  "kernelspec": {
   "display_name": "Python 3",
   "language": "python",
   "name": "python3"
  },
  "language_info": {
   "codemirror_mode": {
    "name": "ipython",
    "version": 3
   },
   "file_extension": ".py",
   "mimetype": "text/x-python",
   "name": "python",
   "nbconvert_exporter": "python",
   "pygments_lexer": "ipython3",
   "version": "3.11.1"
  }
 },
 "nbformat": 4,
 "nbformat_minor": 2
}
